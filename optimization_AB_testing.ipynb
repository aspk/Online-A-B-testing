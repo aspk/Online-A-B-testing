{
 "cells": [
  {
   "cell_type": "code",
   "execution_count": 1,
   "metadata": {},
   "outputs": [],
   "source": [
    "import numpy as np\n",
    "import matplotlib.pyplot as plt\n",
    "%matplotlib inline"
   ]
  },
  {
   "cell_type": "markdown",
   "metadata": {},
   "source": [
    "Server serves the ads using Bayesin A/B testing, epsillon greedy or Upper confidence Bound algorithm.\n",
    "Server serves the ads and the client has clickthrough rates corresponding to a particular ad served. The procedure maximizes the clickthroughrate in an online fashion. Bayesian machine learning methods had the least regret, i.e. lowest difference as compared to optimal clickthroughrate."
   ]
  },
  {
   "cell_type": "code",
   "execution_count": 2,
   "metadata": {},
   "outputs": [],
   "source": [
    "\n",
    "    \n",
    "class Server:\n",
    "    def __init__(self,algorithm = 'random',epsilon = 0.1):\n",
    "        #self.type = ['A','B','C']\n",
    "        self.types = 3\n",
    "        self.clicks = np.zeros(self.types)\n",
    "        self.views = np.zeros(self.types)\n",
    "        self.epsilon = 0.1\n",
    "        self.ctr = 0\n",
    "        self.algorithm = algorithm\n",
    "        self.epsilon = epsilon\n",
    "        self.a = np.ones(self.types)\n",
    "        self.b = np.ones(self.types)\n",
    "        self.mu = np.zeros(self.types)\n",
    "    def get_ad(self):\n",
    "        \"\"\"\n",
    "        epsilon greedy algorithm\n",
    "        if rand()<epsilon:\n",
    "            return random ad\n",
    "        else:\n",
    "            return argmax(self.clicks/self.impressions)\n",
    "            \n",
    "        bayesian\n",
    "        get sample from each bandit\n",
    "        max sample = -1\n",
    "        if sample > max_sample:\n",
    "            best_bandit = bandit\n",
    "            ad = number of bandit\n",
    "        update bandit\n",
    "        \n",
    "        UCB1\n",
    "        np.argmax(self.mu + np.sqrt(2*np.log(np.sum(self.views))/self.views))\n",
    "        \"\"\"\n",
    "        if self.algorithm == 'random':\n",
    "            return np.random.choice(self.types)\n",
    "        if self.algorithm == 'epsilon-greedy':\n",
    "            #epsilon greedy algorithm\n",
    "            if np.random.rand()<self.epsilon:\n",
    "                return np.random.choice(self.types)\n",
    "            else:\n",
    "                if (self.views==0).any():\n",
    "                    return np.random.choice(self.types)\n",
    "                else:\n",
    "                    return np.argmax(self.clicks/self.views)\n",
    "        if self.algorithm == 'bayesian':\n",
    "            # get sample\n",
    "            max_sample = -1\n",
    "            for i in range(self.types):\n",
    "                sample = np.random.beta(a = self.a[i], b = self.b[i])\n",
    "                if sample>max_sample:\n",
    "                    max_sample = sample\n",
    "                    best_bandit = i\n",
    "            return best_bandit   \n",
    "        if self.algorithm == 'UCB1':\n",
    "            if (self.views==0).any():\n",
    "                    return np.random.choice(self.types)\n",
    "            else:\n",
    "                return np.argmax(self.mu + np.sqrt(2*np.log(np.sum(self.views))/self.views))\n",
    "             \n",
    "    def update(self,ad,action):\n",
    "        self.views[ad]+=1\n",
    "        self.clicks[ad]+=action\n",
    "        self.ctr = np.sum(self.clicks)/np.sum(self.views)\n",
    "        self.a[ad]+=action\n",
    "        self.b[ad]+=(1-action)\n",
    "        self.mu[ad] = np.sum(self.clicks[ad])/np.sum(self.views[ad])\n",
    "        return\n",
    "class Client:\n",
    "    def __init__(self):\n",
    "        self.prob = [0.2,0.5,0.7]\n",
    "    def action(self,ad):\n",
    "        return np.random.rand() <self.prob[ad]"
   ]
  },
  {
   "cell_type": "code",
   "execution_count": 5,
   "metadata": {},
   "outputs": [
    {
     "name": "stdout",
     "output_type": "stream",
     "text": [
      "regret is 4669.0\n"
     ]
    },
    {
     "data": {
      "image/png": "[encoded data removed]",
      "text/plain": [
       "<Figure size 432x288 with 1 Axes>"
      ]
     },
     "metadata": {},
     "output_type": "display_data"
    }
   ],
   "source": [
    "server = Server(algorithm='random')\n",
    "client = Client()\n",
    "# plot clickthrough rate vs iteration\n",
    "# plot bandit views\n",
    "# plot bandit clicks\n",
    "# plot bandit clickthrough rate\n",
    "niter = 10000\n",
    "ctr = np.zeros(niter)\n",
    "for i in range(niter):\n",
    "    # get ad\n",
    "    ad = server.get_ad()\n",
    "    # action\n",
    "    action = client.action(ad)\n",
    "    # update \n",
    "    server.update(ad = ad, action = action)\n",
    "    # print\n",
    "    ctr[i] = server.ctr\n",
    "plt.plot(ctr)\n",
    "plt.xlabel('iteration')\n",
    "plt.ylabel('CTR')\n",
    "plt.title('random ad selection')\n",
    "# beat 0.47\n",
    "print('regret is ' +str(0.7*niter - server.clicks[-1]))"
   ]
  },
  {
   "cell_type": "code",
   "execution_count": 8,
   "metadata": {},
   "outputs": [
    {
     "name": "stdout",
     "output_type": "stream",
     "text": [
      "regret is 384.0\n"
     ]
    },
    {
     "data": {
      "image/png": "[encoded data removed]",
      "text/plain": [
       "<Figure size 432x288 with 1 Axes>"
      ]
     },
     "metadata": {},
     "output_type": "display_data"
    }
   ],
   "source": [
    "server = Server(algorithm='epsilon-greedy',epsilon=0.1)\n",
    "client = Client()\n",
    "# plot clickthrough rate vs iteration\n",
    "# plot bandit views\n",
    "# plot bandit clicks\n",
    "# plot bandit clickthrough rate\n",
    "niter = 10000\n",
    "ctr = np.zeros(niter)\n",
    "for i in range(niter):\n",
    "    # get ad\n",
    "    ad = server.get_ad()\n",
    "    # action\n",
    "    action = client.action(ad)\n",
    "    # update \n",
    "    server.update(ad = ad, action = action)\n",
    "    # print\n",
    "    ctr[i] = server.ctr\n",
    "plt.plot(ctr)\n",
    "plt.xlabel('iteration')\n",
    "plt.ylabel('CTR')\n",
    "plt.title('Epsillon greedy '+ str(0.1))\n",
    "# beat 0.47\n",
    "print('regret is ' +str(0.7*niter - server.clicks[-1]))"
   ]
  },
  {
   "cell_type": "code",
   "execution_count": 9,
   "metadata": {},
   "outputs": [
    {
     "name": "stdout",
     "output_type": "stream",
     "text": [
      "regret is 46.0\n"
     ]
    },
    {
     "data": {
      "image/png": "[encoded data removed]",
      "text/plain": [
       "<Figure size 432x288 with 1 Axes>"
      ]
     },
     "metadata": {},
     "output_type": "display_data"
    }
   ],
   "source": [
    "server = Server(algorithm='epsilon-greedy',epsilon=0.01)\n",
    "client = Client()\n",
    "# plot clickthrough rate vs iteration\n",
    "# plot bandit views\n",
    "# plot bandit clicks\n",
    "# plot bandit clickthrough rate\n",
    "niter = 10000\n",
    "ctr = np.zeros(niter)\n",
    "for i in range(niter):\n",
    "    # get ad\n",
    "    ad = server.get_ad()\n",
    "    # action\n",
    "    action = client.action(ad)\n",
    "    # update \n",
    "    server.update(ad = ad, action = action)\n",
    "    # print\n",
    "    ctr[i] = server.ctr\n",
    "plt.plot(ctr)\n",
    "plt.xlabel('iteration')\n",
    "plt.ylabel('CTR')\n",
    "plt.title('Epsillon greedy '+ str(0.01))\n",
    "# beat 0.47\n",
    "print('regret is ' +str(0.7*niter - server.clicks[-1]))\n"
   ]
  },
  {
   "cell_type": "code",
   "execution_count": 10,
   "metadata": {},
   "outputs": [
    {
     "name": "stdout",
     "output_type": "stream",
     "text": [
      "regret is 11.0\n"
     ]
    },
    {
     "data": {
      "image/png": "[encoded data removed]",
      "text/plain": [
       "<Figure size 432x288 with 1 Axes>"
      ]
     },
     "metadata": {},
     "output_type": "display_data"
    }
   ],
   "source": [
    "server = Server(algorithm='bayesian')\n",
    "client = Client()\n",
    "# plot clickthrough rate vs iteration\n",
    "# plot bandit views\n",
    "# plot bandit clicks\n",
    "# plot bandit clickthrough rate\n",
    "niter = 10000\n",
    "ctr = np.zeros(niter)\n",
    "for i in range(niter):\n",
    "    # get ad\n",
    "    ad = server.get_ad()\n",
    "    # action\n",
    "    action = client.action(ad)\n",
    "    # update \n",
    "    server.update(ad = ad, action = action)\n",
    "    # print\n",
    "    ctr[i] = server.ctr\n",
    "plt.plot(ctr)\n",
    "plt.xlabel('iteration')\n",
    "plt.ylabel('CTR')\n",
    "plt.title('Bayesian ')\n",
    "# beat 0.47\n",
    "print('regret is ' +str(0.7*niter - server.clicks[-1]))"
   ]
  },
  {
   "cell_type": "code",
   "execution_count": 11,
   "metadata": {},
   "outputs": [
    {
     "name": "stdout",
     "output_type": "stream",
     "text": [
      "regret is 329.0\n"
     ]
    },
    {
     "data": {
      "image/png": "[encoded data removed]",
      "text/plain": [
       "<Figure size 432x288 with 1 Axes>"
      ]
     },
     "metadata": {},
     "output_type": "display_data"
    }
   ],
   "source": [
    "server = Server(algorithm='UCB1')\n",
    "client = Client()\n",
    "# plot clickthrough rate vs iteration\n",
    "# plot bandit views\n",
    "# plot bandit clicks\n",
    "# plot bandit clickthrough rate\n",
    "niter = 10000\n",
    "ctr = np.zeros(niter)\n",
    "for i in range(niter):\n",
    "    # get ad\n",
    "    ad = server.get_ad()\n",
    "    # action\n",
    "    action = client.action(ad)\n",
    "    # update \n",
    "    server.update(ad = ad, action = action)\n",
    "    # print\n",
    "    ctr[i] = server.ctr\n",
    "plt.plot(ctr)\n",
    "plt.xlabel('iteration')\n",
    "plt.ylabel('CTR')\n",
    "plt.title('UCB1 ')\n",
    "# beat 0.47\n",
    "print('regret is ' +str(0.7*niter - server.clicks[-1]))"
   ]
  }
 ],
 "metadata": {
  "kernelspec": {
   "display_name": "Python 3",
   "language": "python",
   "name": "python3"
  },
  "language_info": {
   "codemirror_mode": {
    "name": "ipython",
    "version": 3
   },
   "file_extension": ".py",
   "mimetype": "text/x-python",
   "name": "python",
   "nbconvert_exporter": "python",
   "pygments_lexer": "ipython3",
   "version": "3.6.5"
  }
 },
 "nbformat": 4,
 "nbformat_minor": 2
}
